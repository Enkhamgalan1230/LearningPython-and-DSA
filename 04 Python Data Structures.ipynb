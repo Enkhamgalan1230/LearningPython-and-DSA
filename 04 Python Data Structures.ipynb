{
  "cells": [
    {
      "cell_type": "markdown",
      "id": "1eba3b72",
      "metadata": {
        "id": "1eba3b72"
      },
      "source": [
        "# 04 Python Data Structures\n",
        "ND August 2023"
      ]
    },
    {
      "cell_type": "markdown",
      "id": "dd38cc99",
      "metadata": {
        "id": "dd38cc99"
      },
      "source": [
        "#### This Jupyter Notebook contains exercises for you to extend your introduction to OOP, by creating lists, tuples, sets, dictionaries of objects. Attempt the following exercises, which slowly build in complexity. If you get stuck, check back to the <a href = \"https://youtu.be/MDZX59Lrc_g?si=MW3m7FYgfVYoYqum\"> Python lecture recording on Data Structures here</a> or look through the <a href = \"https://www.python.org\">Python documentation here</a>."
      ]
    },
    {
      "cell_type": "markdown",
      "id": "6e5075e1",
      "metadata": {
        "id": "6e5075e1"
      },
      "source": [
        "### Exercise 1:\n",
        "Create a Python list that stores the numbers 1-10 in indivdual elements. Then print out the contents of the list to check the values have been stored correctly.\n",
        "\n",
        "Extension: make use of an appropriate list method to reverse the order of this list."
      ]
    },
    {
      "cell_type": "code",
      "execution_count": 1,
      "id": "1c93996b",
      "metadata": {
        "id": "1c93996b",
        "outputId": "fc2acb5f-64bd-48f2-9659-ddbc761958a4",
        "scrolled": false
      },
      "outputs": [
        {
          "data": {
            "text/plain": [
              "[1, 2, 3, 4, 5, 6, 7, 9, 10]"
            ]
          },
          "execution_count": 1,
          "metadata": {},
          "output_type": "execute_result"
        }
      ],
      "source": [
        "#Write your solution here\n",
        "l = [1,2,3,4,5,6,7,9,10]\n",
        "l"
      ]
    },
    {
      "cell_type": "markdown",
      "id": "2ae0edc0",
      "metadata": {},
      "source": [
        "### Exercise 2:\n",
        "\n",
        "Create a Python dictionary which stores the price for three items of food. For example; milk is £1.30, pasta is £0.75, and strawberries are £1.50. Output the dictionary to check the values are stored, and then see if you can access the price for one of the items by using the item name as the 'key'.\n",
        "\n",
        "Extension: Now add a new key and value pair to previously defined dictionary."
      ]
    },
    {
      "cell_type": "code",
      "execution_count": 6,
      "id": "84b40bdc",
      "metadata": {},
      "outputs": [
        {
          "data": {
            "text/plain": [
              "{'milk': 1.3, 'pasta': 0.75, 'strawberries': 1.5, 'sandwich': 2.1}"
            ]
          },
          "execution_count": 6,
          "metadata": {},
          "output_type": "execute_result"
        }
      ],
      "source": [
        "#Write your solution here\n",
        "d = {'milk': 1.3, 'pasta': 0.75, 'strawberries': 1.5}\n",
        "d['milk']\n",
        "\n",
        "d['sandwich'] = 2.10\n",
        "d\n",
        "\n"
      ]
    },
    {
      "cell_type": "markdown",
      "id": "18d27a22",
      "metadata": {},
      "source": [
        "### Exercise 3: \n",
        "\n",
        "Given two sets (prices and food names), can you create a dictionary that uses the foodnames as keys, and the prices as values?\n"
      ]
    },
    {
      "cell_type": "code",
      "execution_count": 4,
      "id": "989af81c",
      "metadata": {},
      "outputs": [
        {
          "name": "stdout",
          "output_type": "stream",
          "text": [
            "{'pasta', 'milk', 'strawberries'}\n",
            "{0.75, 1.3, 1.5}\n"
          ]
        },
        {
          "data": {
            "text/plain": [
              "{'pasta': 0.75, 'milk': 1.3, 'strawberries': 1.5}"
            ]
          },
          "execution_count": 4,
          "metadata": {},
          "output_type": "execute_result"
        }
      ],
      "source": [
        "foodnames = {\"milk\", \"pasta\", \"strawberries\"}\n",
        "prices = {1.30, 0.75, 1.50}\n",
        "s1 = list(foodnames)\n",
        "s2 = list(prices)\n",
        "print(foodnames)\n",
        "print(prices)\n",
        "\n",
        "# Write your solution: \n",
        "dic ={ s1[0]:s2[0], s1[1]:s2[1], s1[2]:s2[2] } \n",
        "dic\n",
        "\n",
        "#dict turshih\n"
      ]
    },
    {
      "cell_type": "markdown",
      "id": "d14cb700",
      "metadata": {},
      "source": [
        "### Exercise 4: \n",
        "\n",
        "Write one function which will return the intersection of two sets passed in. Write another function which will return the union of two sets passed in."
      ]
    },
    {
      "cell_type": "code",
      "execution_count": 9,
      "id": "c4dc15f6",
      "metadata": {},
      "outputs": [
        {
          "name": "stdout",
          "output_type": "stream",
          "text": [
            "{8, 9, 10, 7}\n",
            "{1, 2, 3, 4, 5, 6, 7, 8, 9, 10, 11, 12, 13, 14}\n"
          ]
        }
      ],
      "source": [
        "a = {1,2,3,4,5,6,7,8,9,10}\n",
        "b = {7,8,9,10,11,12,13,14}\n",
        "\n",
        "#write your solution here\n",
        "def fun():\n",
        "    print(a&b)\n",
        "\n",
        "def fun2():\n",
        "    print(a|b)\n",
        "\n",
        "fun()\n",
        "fun2()"
      ]
    },
    {
      "cell_type": "markdown",
      "id": "fbb5bdfe",
      "metadata": {},
      "source": [
        "### Exercise 5:\n",
        "Write a function that takes two lists of numbers, and returns the number that appears most frequently across both lists (the mode). \n",
        "\n",
        "Hint: if you get stuck, try creating a tally of how many times each number appears. This could be a list.\n"
      ]
    },
    {
      "cell_type": "code",
      "execution_count": 16,
      "id": "6f9446d9",
      "metadata": {},
      "outputs": [
        {
          "name": "stdout",
          "output_type": "stream",
          "text": [
            "0 tally of 2\n",
            "1 tally of 6\n",
            "2 tally of 3\n",
            "3 tally of 5\n",
            "4 tally of 5\n",
            "5 tally of 2\n",
            "6 tally of 3\n",
            "7 tally of 5\n",
            "8 tally of 2\n",
            "9 tally of 3\n",
            "number 1 is repeated 6 times\n"
          ]
        }
      ],
      "source": [
        "def most_frequent(a, b):\n",
        "    #write your solution here\n",
        "    c = a + b\n",
        "    l = []\n",
        "    c.sort()\n",
        "    for i in range(0 , max(c)+1): \n",
        "        l.append(c.count(i))\n",
        "        print(i, \"tally of\", c.count(i))\n",
        "\n",
        "    print( \"number\", l.index(max(l)), \"is repeated\", max(l), \"times\" )\n",
        "\n",
        "    #write your solution above\n",
        "\n",
        "a = [0,1,3,4,6,3,2,4,1,9,5,6,7,7,1,8,4,0]\n",
        "b = [7,3,9,6,7,4,2,1,3,9,7,5,1,3,4,2,1,8]\n",
        "\n",
        "result = most_frequent(a, b)\n",
        "result\n"
      ]
    },
    {
      "cell_type": "markdown",
      "id": "64e7ea31",
      "metadata": {},
      "source": [
        "### Exercise 6: \n",
        "\n",
        "Return to your student class created in Python 03 notebook. Create three new student objects and add/store these objects in a list."
      ]
    },
    {
      "cell_type": "code",
      "execution_count": 1,
      "id": "c5c92884",
      "metadata": {},
      "outputs": [
        {
          "name": "stdout",
          "output_type": "stream",
          "text": [
            "name: Entwan\n",
            "ID: 22135347\n",
            "{'CO536 Algorithms': 100}\n",
            "name: Weronika\n",
            "ID: 21904853\n",
            "{'CO567 OOSD': 100}\n",
            "name: Josh\n",
            "ID: 66464665\n",
            "{'CO567 OOSD': 99}\n"
          ]
        }
      ],
      "source": [
        "class Student:\n",
        "  def __init__(self, name, id):\n",
        "    self.name = name\n",
        "    self.id = id\n",
        "    self.modules = {}\n",
        "  \n",
        "  def print(self):\n",
        "      print(\"name:\",self.name) \n",
        "      print(\"ID:\", self.id)\n",
        "      print(self.modules)\n",
        "\n",
        "  def add_module(self, code, name):\n",
        "     self.modules.update({code : name} )\n",
        "  \n",
        "\n",
        "\n",
        "#write your solution here\n",
        "\n",
        "#Creating objects\n",
        "\n",
        "student1 = Student(\"Entwan\", 22135347)\n",
        "student2 = Student(\"Weronika\", 21904853)\n",
        "student3 = Student(\"Josh\", 66464665)\n",
        "\n",
        "# adding students to list\n",
        "students = []\n",
        "def add_student(s):\n",
        "   students.append(s)\n",
        "   \n",
        "add_student(student1)\n",
        "add_student(student2)\n",
        "add_student(student3)\n",
        "\n",
        "student1.add_module(\"CO536 Algorithms\", 100)\n",
        "student2.add_module(\"CO567 OOSD\", 100)\n",
        "student3.add_module(\"CO567 OOSD\", 99 )\n",
        "\n",
        "\n",
        "for s in students:\n",
        "   s.print()\n",
        "\n",
        "\n",
        "\n"
      ]
    },
    {
      "cell_type": "markdown",
      "id": "99a26654",
      "metadata": {},
      "source": [
        "### Exercise 7: \n",
        "\n",
        "Amend your Module class from Python 03 notebook so that module objects can store a list of student objects (which take the module). Start by defining an attribute in the Module constructor. This could be initialised as an empty list in the constructor. Create a ```add_student()``` function which can append a student object. \n",
        "\n",
        "Extension: is it possible to use the ```add_student()``` function to add a list of students to already existing list attribute? "
      ]
    },
    {
      "cell_type": "code",
      "execution_count": 2,
      "id": "e078c746",
      "metadata": {},
      "outputs": [
        {
          "name": "stdout",
          "output_type": "stream",
          "text": [
            "name: Entwan\n",
            "ID: 22135347\n",
            "{'CO536 Algorithms': 100}\n",
            "name: Weronika\n",
            "ID: 21904853\n",
            "{'CO567 OOSD': 100}\n",
            "name: Josh\n",
            "ID: 66464665\n",
            "{'CO567 OOSD': 99}\n"
          ]
        }
      ],
      "source": [
        "for s in students:\n",
        "   s.print()"
      ]
    },
    {
      "cell_type": "markdown",
      "id": "f85dedf5",
      "metadata": {},
      "source": [
        "### Exercise 7\n",
        "\n",
        "Now modify the list of the students in Module, to a dictionary. The dictionary should store the student object as the 'key' and the student mark for the module as the 'value'. Test this new structure works by passing in students and their marks when you call ```add_student()```\n",
        "\n",
        "Extension: Can you now create some descriptive statistics for each module: the maximum mark, minimum mark, and mean (average)?"
      ]
    },
    {
      "cell_type": "code",
      "execution_count": 1,
      "id": "8ea7dad5",
      "metadata": {},
      "outputs": [],
      "source": [
        "#write your solution here"
      ]
    },
    {
      "cell_type": "markdown",
      "id": "2a013a70",
      "metadata": {},
      "source": [
        "### Exercise 8\n",
        "Make adjustments to the Course class from Python 03 Notebook to allow a Course to store a list of module objects. \n",
        "Create additional module objects and output their details."
      ]
    },
    {
      "cell_type": "code",
      "execution_count": 2,
      "id": "89872b11",
      "metadata": {},
      "outputs": [],
      "source": [
        "#write your solution here"
      ]
    },
    {
      "cell_type": "markdown",
      "id": "f62b3876",
      "metadata": {
        "id": "f62b3876"
      },
      "source": [
        "### Exercise 9:\n",
        "Write a function that will generate the multiplications of a number passed in. For example, if the value 5 is passed in, then generate the 5 times table. The values of the multiplication table should be stored in indivdiual elements (max 12) of a list. The list should be returned at the end of the function. \n"
      ]
    },
    {
      "cell_type": "code",
      "execution_count": 8,
      "id": "7111df18",
      "metadata": {},
      "outputs": [
        {
          "name": "stdout",
          "output_type": "stream",
          "text": [
            "[7, 14, 21, 28, 35, 42, 49, 56, 63, 70, 77, 84]\n"
          ]
        }
      ],
      "source": [
        "#write your solution here\n",
        "\n",
        "l = []\n",
        "x = int(input(\"Enter the number :\"))\n",
        "i = 1\n",
        "while i <= 12 :\n",
        "    l.append(x*i)\n",
        "\n",
        "    i += 1\n",
        "\n",
        "print(l)"
      ]
    },
    {
      "cell_type": "markdown",
      "id": "c76976fd",
      "metadata": {},
      "source": [
        "### Exercise 10:\n",
        "\n",
        "Write a function which will square any list of values passed into it. Test this works by passing in your list of numbers (1-10) you created in the first exericse.\n",
        "\n",
        "<b>Extension</b>: what happens if the values in a list are not ints or floats? How would you respond to this event?"
      ]
    },
    {
      "cell_type": "code",
      "execution_count": 17,
      "id": "7889352e",
      "metadata": {},
      "outputs": [
        {
          "name": "stdout",
          "output_type": "stream",
          "text": [
            "1\n",
            "4\n",
            "9\n",
            "16\n",
            "25\n",
            "36\n",
            "49\n",
            "64\n",
            "81\n",
            "100\n"
          ]
        }
      ],
      "source": [
        "#write your solution here\n",
        "\n",
        "list = [1,2,3,4,5,6,7,8,9,10]\n",
        "\n",
        "for x in range(list[0],list[-1] +1) :\n",
        "  print(x**2)\n",
        " \n"
      ]
    },
    {
      "cell_type": "markdown",
      "id": "5861f62c",
      "metadata": {},
      "source": [
        "### Bonus exercise (in the style of an interview question)\n",
        "\n",
        "You are given a list of integers, and your task is to find the longest subsequence of consecutive integers within the list. A subsequence is a sequence that can be derived from another sequence by deleting some or no elements without changing the order of the remaining elements. \n",
        "\n",
        "Write a Python function to solve this problem. Your function should return the longest consecutive subsequence found in the original list.\n",
        "\n",
        "For example, given the input list: ``` [4, 2, 8, 5, 6, 7, 11, 12, 10]```\n",
        "\n",
        "The longest consecutive subsequence is: ``` [4, 5, 6, 7, 8] ```\n"
      ]
    },
    {
      "cell_type": "code",
      "execution_count": 23,
      "id": "ddf7677c",
      "metadata": {
        "id": "ddf7677c"
      },
      "outputs": [
        {
          "ename": "TypeError",
          "evalue": "'builtin_function_or_method' object is not subscriptable",
          "output_type": "error",
          "traceback": [
            "\u001b[1;31m---------------------------------------------------------------------------\u001b[0m",
            "\u001b[1;31mTypeError\u001b[0m                                 Traceback (most recent call last)",
            "\u001b[1;32mc:\\Users\\Entwan\\Documents\\GitHub\\LearningPython\\04 Python Data Structures.ipynb Cell 26\u001b[0m line \u001b[0;36m1\n\u001b[0;32m     <a href='vscode-notebook-cell:/c%3A/Users/Entwan/Documents/GitHub/LearningPython/04%20Python%20Data%20Structures.ipynb#X34sZmlsZQ%3D%3D?line=12'>13</a>\u001b[0m     \u001b[39m#write your solution above\u001b[39;00m\n\u001b[0;32m     <a href='vscode-notebook-cell:/c%3A/Users/Entwan/Documents/GitHub/LearningPython/04%20Python%20Data%20Structures.ipynb#X34sZmlsZQ%3D%3D?line=15'>16</a>\u001b[0m numbers \u001b[39m=\u001b[39m [\u001b[39m4\u001b[39m, \u001b[39m2\u001b[39m, \u001b[39m8\u001b[39m, \u001b[39m5\u001b[39m, \u001b[39m6\u001b[39m, \u001b[39m7\u001b[39m, \u001b[39m11\u001b[39m, \u001b[39m12\u001b[39m, \u001b[39m10\u001b[39m]\n\u001b[1;32m---> <a href='vscode-notebook-cell:/c%3A/Users/Entwan/Documents/GitHub/LearningPython/04%20Python%20Data%20Structures.ipynb#X34sZmlsZQ%3D%3D?line=16'>17</a>\u001b[0m result \u001b[39m=\u001b[39m longest_consecutive_subsequence(numbers)\n\u001b[0;32m     <a href='vscode-notebook-cell:/c%3A/Users/Entwan/Documents/GitHub/LearningPython/04%20Python%20Data%20Structures.ipynb#X34sZmlsZQ%3D%3D?line=17'>18</a>\u001b[0m \u001b[39mprint\u001b[39m(result)  \n",
            "\u001b[1;32mc:\\Users\\Entwan\\Documents\\GitHub\\LearningPython\\04 Python Data Structures.ipynb Cell 26\u001b[0m line \u001b[0;36m1\n\u001b[0;32m      <a href='vscode-notebook-cell:/c%3A/Users/Entwan/Documents/GitHub/LearningPython/04%20Python%20Data%20Structures.ipynb#X34sZmlsZQ%3D%3D?line=8'>9</a>\u001b[0m         v\u001b[39m.\u001b[39mappend(numbers[x])  \n\u001b[0;32m     <a href='vscode-notebook-cell:/c%3A/Users/Entwan/Documents/GitHub/LearningPython/04%20Python%20Data%20Structures.ipynb#X34sZmlsZQ%3D%3D?line=9'>10</a>\u001b[0m     \u001b[39melse\u001b[39;00m :\n\u001b[1;32m---> <a href='vscode-notebook-cell:/c%3A/Users/Entwan/Documents/GitHub/LearningPython/04%20Python%20Data%20Structures.ipynb#X34sZmlsZQ%3D%3D?line=10'>11</a>\u001b[0m         numbers\u001b[39m.\u001b[39;49mremove[numbers[x]]\n\u001b[0;32m     <a href='vscode-notebook-cell:/c%3A/Users/Entwan/Documents/GitHub/LearningPython/04%20Python%20Data%20Structures.ipynb#X34sZmlsZQ%3D%3D?line=11'>12</a>\u001b[0m \u001b[39mreturn\u001b[39;00m v\n",
            "\u001b[1;31mTypeError\u001b[0m: 'builtin_function_or_method' object is not subscriptable"
          ]
        }
      ],
      "source": [
        "def longest_consecutive_subsequence(numbers):\n",
        "    #write your solution here\n",
        "    numbers.sort()\n",
        "    x= 0\n",
        "    v = []\n",
        "\n",
        "    for x in range(len(numbers)):\n",
        "        if numbers[x] + 1 == numbers[x+1] :\n",
        "            v.append(numbers[x])  \n",
        "        else :\n",
        "            numbers.remove[numbers[x]]\n",
        "    return v\n",
        "    #write your solution above\n",
        "\n",
        "\n",
        "numbers = [4, 2, 8, 5, 6, 7, 11, 12, 10]\n",
        "result = longest_consecutive_subsequence(numbers)\n",
        "print(result)  "
      ]
    }
  ],
  "metadata": {
    "colab": {
      "provenance": []
    },
    "kernelspec": {
      "display_name": "Python 3 (ipykernel)",
      "language": "python",
      "name": "python3"
    },
    "language_info": {
      "codemirror_mode": {
        "name": "ipython",
        "version": 3
      },
      "file_extension": ".py",
      "mimetype": "text/x-python",
      "name": "python",
      "nbconvert_exporter": "python",
      "pygments_lexer": "ipython3",
      "version": "3.11.6"
    }
  },
  "nbformat": 4,
  "nbformat_minor": 5
}
