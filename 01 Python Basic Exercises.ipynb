{
 "cells": [
  {
   "attachments": {},
   "cell_type": "markdown",
   "id": "1eba3b72",
   "metadata": {},
   "source": [
    "# 01 Python Basics \n",
    "ND May 2023"
   ]
  },
  {
   "attachments": {},
   "cell_type": "markdown",
   "id": "dd38cc99",
   "metadata": {},
   "source": [
    "#### This Jupyter Notebook contains exercises for you to practice the basics of Python. You'll see a mixture of markdown cells and interactive code cells. Attempt the following exercises, which slowly build in complexity. If you get stuck, check back to the <a href = \"https://www.youtube.com/watch?v=9yCSlN2VLSQ\">introductory Python lecture recording here</a> or look through the <a href = \"https://www.python.org\">Python documentation here</a>."
   ]
  },
  {
   "attachments": {},
   "cell_type": "markdown",
   "id": "6e5075e1",
   "metadata": {},
   "source": [
    "### Exercise 1:\n",
    "\n",
    "Write a line of code in Python that prints 'Hello World' to the screen."
   ]
  },
  {
   "cell_type": "code",
   "execution_count": 1,
   "id": "1c93996b",
   "metadata": {
    "scrolled": true
   },
   "outputs": [
    {
     "name": "stdout",
     "output_type": "stream",
     "text": [
      "Hello world\n"
     ]
    }
   ],
   "source": [
    "# Write your Python code in this interactive code cell and 'run' the code to check it works.\n",
    "\n",
    "print(\"Hello world\")\n"
   ]
  },
  {
   "attachments": {},
   "cell_type": "markdown",
   "id": "3ebccf84",
   "metadata": {},
   "source": [
    "### Exercise 2:\n",
    "Now declare a variable called name. Assign your firstname as the value for this variable. Print this value to the screen to check that it has been assigned to the variable."
   ]
  },
  {
   "cell_type": "code",
   "execution_count": 4,
   "id": "0cadfab5",
   "metadata": {},
   "outputs": [
    {
     "data": {
      "text/plain": [
       "'Entwan'"
      ]
     },
     "execution_count": 4,
     "metadata": {},
     "output_type": "execute_result"
    }
   ],
   "source": [
    "name = \"Entwan\"\n",
    "name\n",
    "#print(name)"
   ]
  },
  {
   "attachments": {},
   "cell_type": "markdown",
   "id": "32bfa255",
   "metadata": {},
   "source": [
    "### Exercise 3:\n",
    "\n",
    "Now declare two variables. Assign the value 10 to the first variable. Then assign the value 40 to the second variable. Then add the variables together and print out the result."
   ]
  },
  {
   "cell_type": "code",
   "execution_count": 2,
   "id": "942a91d0",
   "metadata": {
    "scrolled": true
   },
   "outputs": [
    {
     "name": "stdout",
     "output_type": "stream",
     "text": [
      "50\n"
     ]
    }
   ],
   "source": [
    "num1 = 10\n",
    "num2 = 40\n",
    "res = num1 + num2\n",
    "print(res)"
   ]
  },
  {
   "attachments": {},
   "cell_type": "markdown",
   "id": "42004548",
   "metadata": {},
   "source": [
    "### Exercise 4: \n",
    "Providing you have completed the previous two exercises, you should have three variables with assigned values. Now write code in the cell below which will print out the individual values for these variables declared previously. In terms of formatting, print out one value for each line. You could use the '\\n' escape character for a 'new line'\n",
    "\n",
    "Note: You won't need to re-declare these variables as the values should still be stored in memory until the session is closed."
   ]
  },
  {
   "cell_type": "code",
   "execution_count": 5,
   "id": "93304814",
   "metadata": {},
   "outputs": [
    {
     "name": "stdout",
     "output_type": "stream",
     "text": [
      "Entwan \n",
      " 10 \n",
      " 40\n"
     ]
    }
   ],
   "source": [
    "print(name , '\\n', num1, '\\n', num2)"
   ]
  },
  {
   "attachments": {},
   "cell_type": "markdown",
   "id": "7d697f44",
   "metadata": {},
   "source": [
    "### Exericse 5:\n",
    "Now use a function in Python to ask the user to enter their name. This name should be stored in an appropriate variable. Once stored, print the value of this variable (what the user entered) to the screen."
   ]
  },
  {
   "cell_type": "code",
   "execution_count": 6,
   "id": "c6a148e5",
   "metadata": {},
   "outputs": [
    {
     "data": {
      "text/plain": [
       "50"
      ]
     },
     "execution_count": 6,
     "metadata": {},
     "output_type": "execute_result"
    }
   ],
   "source": [
    "age = int(input(\"Enter your age: \"))\n",
    "age \n"
   ]
  },
  {
   "attachments": {},
   "cell_type": "markdown",
   "id": "f02de2c2",
   "metadata": {},
   "source": [
    "### Exercise 6: \n",
    "Now ask the user to enter two numbers, and store these inputs in two variables. Once stored, print out the average of the two numbers.\n",
    "\n",
    "Hint: If you get stuck, first check which type of data is being returned from the Python function."
   ]
  },
  {
   "cell_type": "code",
   "execution_count": 7,
   "id": "22b02237",
   "metadata": {},
   "outputs": [
    {
     "data": {
      "text/plain": [
       "123.0"
      ]
     },
     "execution_count": 7,
     "metadata": {},
     "output_type": "execute_result"
    }
   ],
   "source": [
    "num1 = int(input(\"Enter first number here : \"))\n",
    "num2 = int(input(\"Enter second number here : \"))\n",
    "ave = float(num1 + num2)/2\n",
    "ave"
   ]
  },
  {
   "attachments": {},
   "cell_type": "markdown",
   "id": "84a47670",
   "metadata": {},
   "source": [
    "### Exercise 7:\n",
    "Design a program that asks the user to enter values for the length and height of a rectangle and then outputs the perimeter and area of the rectangle to the screen.\n",
    "\n",
    "Extension: ask the user to also type in a unit: cm, m, inches etc. Include this unit in the output. "
   ]
  },
  {
   "cell_type": "code",
   "execution_count": 9,
   "id": "e32e93c8",
   "metadata": {},
   "outputs": [
    {
     "name": "stdout",
     "output_type": "stream",
     "text": [
      "Please enter the length and height of the rectangle with the unit. \n",
      "The perimeter is 10cm and the are is 6cm\n"
     ]
    }
   ],
   "source": [
    "print(\"Please enter the length and height of the rectangle with the unit. \")\n",
    "length = int(input(\"Length is: \"))\n",
    "height = int(input(\"Height is: \"))\n",
    "unit = input(\"Unit : \") \n",
    "\n",
    "perimeter = (length + height)*2 \n",
    "area = (length*height) \n",
    "\n",
    "print(\"The perimeter is\", str(perimeter)+unit, \"and the are is\", str(area)+unit)\n",
    "#print(length)\n",
    "\n"
   ]
  },
  {
   "attachments": {},
   "cell_type": "markdown",
   "id": "07c657a6",
   "metadata": {},
   "source": [
    "### Exercise 8:\n",
    "\n",
    "Write a script that will convert miles to feet. First ask the user to enter a quantity of miles. Store this in an appropriate variable. Then convert and output (print) the number of feet to the screen. Test this for a number of inputs to check the conversion works correctly.\n",
    "\n",
    "For reference, there are 5280 feet in 1.0 mile. \n",
    "\n",
    "Extension: Also ask the user to enter the same number of feet and check this converts back to the original number of miles."
   ]
  },
  {
   "cell_type": "code",
   "execution_count": 6,
   "id": "b12c7cd7",
   "metadata": {},
   "outputs": [
    {
     "name": "stdout",
     "output_type": "stream",
     "text": [
      "13 miles is 68640 feet\n",
      "To check the calculation i convert it back to the miles \n",
      "68640 feet is  13.0 miles\n"
     ]
    }
   ],
   "source": [
    "miles = int(input(\"Enter the number of miles : \"))\n",
    "feet = miles*5280\n",
    "print(miles, \"miles is\", feet, \"feet\")\n",
    "print(\"To check the calculation i convert it back to the miles \")\n",
    "miles = feet/5280\n",
    "print(feet, \"feet is \", miles, \"miles\"  )\n"
   ]
  },
  {
   "attachments": {},
   "cell_type": "markdown",
   "id": "11077868",
   "metadata": {},
   "source": [
    "### Exercise 9:\n",
    "\n",
    "Write a program that will calculate the how much interest will paid on money invested in a savings account. Select an appropriate interest rate (based on the current markets at time of reading) and consider how you will represent this in your program. The user should enter the deposit amount and the program should display how much money the user will have after the interest is paid at the end of the year.\n",
    "\n",
    "Extension: Think about the appropriate formatting for currency. For example, consider how to print the output with two decimal places for pound sterling."
   ]
  },
  {
   "cell_type": "code",
   "execution_count": 12,
   "id": "ddf7677c",
   "metadata": {},
   "outputs": [
    {
     "name": "stdout",
     "output_type": "stream",
     "text": [
      "This program will calculate how much intrest will be paid at the end of the year: \n",
      "Choose the bank : \n",
      " 1. Llyods (5.25%) \n",
      " 2. Barclays (5.12%) \n",
      " 3. TSB (5%)\n",
      " You will have  5.12 pounds as intrest and in total you will have 105.12 pound sterling\n"
     ]
    }
   ],
   "source": [
    "print(\"This program will calculate how much intrest will be paid at the end of the year: \")\n",
    "print(\"Choose the bank : \\n 1. Llyods (5.25%) \\n 2. Barclays (5.12%) \\n 3. TSB (5%)\")\n",
    "choice = int(input())\n",
    "if choice == 1 :\n",
    "    money = float(input(\" You chose Llyods! Please enter the money you would like to deposit :\"))\n",
    "    intrest = money * 0.0525\n",
    "    print(\" You will have \", format(intrest, '.2f' ), \"pounds as intrest and in total you will have\", money+intrest, \"pound sterling\")\n",
    "elif choice == 2 :\n",
    "    money = float(input(\" You chose Barclays! Please enter the money you would like to deposit :\"))\n",
    "    intrest = money * 0.0512\n",
    "    print(\" You will have \", format(intrest, '.2f' ), \"pounds as intrest and in total you will have\", money+intrest, \"pound sterling\")\n",
    "elif choice == 3 :\n",
    "    money = float(input(\" You chose Barclays! Please enter the money you would like to deposit :\"))\n",
    "    intrest = money * 0.05\n",
    "    print(\" You will have \", format(intrest, '.2f' ), \"pounds as intrest and in total you will have\", money+intrest, \"pound sterling\")\n",
    "else :\n",
    "    print(\"Invalid input.\")"
   ]
  },
  {
   "attachments": {},
   "cell_type": "markdown",
   "id": "611abb55",
   "metadata": {},
   "source": [
    "### Exercise 10:\n",
    "\n",
    "Ask the user to enter the month that they were born in. Calculate how many months it will be until their next birthday.\n",
    "\n",
    "For simplicity, it would be easier if they enter this in the format of an integer (int). For example, May would be the 5th month of the year.\n",
    "\n",
    "Challenge: Instead of asking for integers, ask the user to enter their month of birth as a string (str)! "
   ]
  },
  {
   "cell_type": "code",
   "execution_count": 31,
   "id": "7eb7cb96",
   "metadata": {},
   "outputs": [
    {
     "name": "stdout",
     "output_type": "stream",
     "text": [
      "Invalid input. Please enter a valid month name or abbreviation.\n"
     ]
    }
   ],
   "source": [
    "\"\"\"\n",
    "import datetime\n",
    "choice = input(\"Enter which month of the year you born in? \")\n",
    "choice.lower()\n",
    "def fun():\n",
    "    currentMonth = datetime.now().month\n",
    "    if bday > currentMonth :\n",
    "        res = 12 - currentMonth + bday \n",
    "        print ( res, \"months left for your next birthday!\")\n",
    "    elif bday <= month.now :\n",
    "        res = currentMonth - bday\n",
    "        print ( res, \"months left for your next birthday!\")\n",
    "    \n",
    "if choice == 1 or \"jan\" or \"january\" :\n",
    "    bday = 1\n",
    "    fun()\n",
    "\n",
    "elif choice == 2 or \"feb\" or \"february\" :\n",
    "    bday = 2\n",
    "    fun()\n",
    "elif choice == 3 or \"mar\" or \"march\" :\n",
    "    bday = 3\n",
    "    fun()\n",
    "elif choice == 4 or \"apr\" or \"april\" :\n",
    "    bday = 4\n",
    "    fun()\n",
    "elif choice == 5 or \"may\" or \"may\" :\n",
    "    bday = 5\n",
    "    fun()\n",
    "elif choice == 6 or \"jun\" or \"june\" :\n",
    "    bday = 6\n",
    "    fun()\n",
    "elif choice == 7 or \"jul\" or \"july\" :\n",
    "    bday = 7\n",
    "    fun()\n",
    "elif choice == 8 or \"aug\" or \"august\" :\n",
    "    bday = 8\n",
    "    fun()\n",
    "elif choice == 9 or \"sep\" or \"september\" :\n",
    "    bday = 9\n",
    "    fun()\n",
    "elif choice == 10 or \"oct\" or \"october\" :\n",
    "    bday = 10\n",
    "    fun()\n",
    "elif choice == 11 or \"nov\" or \"november\" :\n",
    "    bday = 11\n",
    "    fun()\n",
    "elif choice == 12 or \"dec\" or \"december\" :\n",
    "    bday = 12\n",
    "    fun()\n",
    "\n",
    "\"\"\"\n",
    "\n",
    "import datetime\n",
    "\n",
    "# Input and lowercase conversion\n",
    "choice = input(\"Enter which month of the year you were born in: \").lower()\n",
    "\n",
    "# Define a dictionary to map month names/numbers\n",
    "months = {\n",
    "    1: [\"jan\", \"january\"],\n",
    "    2: [\"feb\", \"february\"],\n",
    "    3: [\"mar\", \"march\"],\n",
    "    4: [\"apr\", \"april\"],\n",
    "    5: [\"may\"],\n",
    "    6: [\"jun\", \"june\"],\n",
    "    7: [\"jul\", \"july\"],\n",
    "    8: [\"aug\", \"august\"],\n",
    "    9: [\"sep\", \"september\"],\n",
    "    10: [\"oct\", \"october\"],\n",
    "    11: [\"nov\", \"november\"],\n",
    "    12: [\"dec\", \"december\"]\n",
    "}\n",
    "\n",
    "def calculate_months_until_next_birthday(birth_month):\n",
    "    current_month = datetime.datetime.now().month\n",
    "    if birth_month > current_month:\n",
    "        months_left = birth_month - current_month\n",
    "    else:\n",
    "        months_left = 12 - current_month + birth_month\n",
    "    return months_left\n",
    "\n",
    "# Find the corresponding month number\n",
    "birth_month = None\n",
    "for month_number, month_names in months.items():\n",
    "    if choice in month_names:\n",
    "        birth_month = month_number\n",
    "        break\n",
    "\n",
    "if birth_month is not None:\n",
    "    months_left = calculate_months_until_next_birthday(birth_month)\n",
    "    print(f\"{months_left} months left until your next birthday!\")\n",
    "else:\n",
    "    print(\"Invalid input. Please enter a valid month name or abbreviation.\")\n",
    "\n"
   ]
  },
  {
   "attachments": {},
   "cell_type": "markdown",
   "id": "b3515ece",
   "metadata": {},
   "source": [
    "### (Bonus) Exercise 11:\n",
    "\n",
    "Further to the previous exercise, write some code that asks the user to enter their date of birth (DOB). Now calculate how old the user is from their date of birth and output this to the screen."
   ]
  },
  {
   "cell_type": "code",
   "execution_count": null,
   "id": "1e99eb4e",
   "metadata": {},
   "outputs": [],
   "source": []
  },
  {
   "attachments": {},
   "cell_type": "markdown",
   "id": "befecdab",
   "metadata": {},
   "source": [
    "### (Bonus) Exercise 12:\n",
    "Extend the previous exercise to calculate how many days it is until the user's next birthday from the DOB entered.\n",
    "\n",
    "Extension: Check whether this is a leap year, and if it is, remember to make an adjustment."
   ]
  },
  {
   "cell_type": "code",
   "execution_count": null,
   "id": "352f7891",
   "metadata": {},
   "outputs": [],
   "source": []
  },
  {
   "attachments": {},
   "cell_type": "markdown",
   "id": "3c4f2883",
   "metadata": {},
   "source": [
    "### (Bonus) Exercise 13:\n",
    "\n",
    "Write a script which will process the user's DOB and output which day of the week they were born. "
   ]
  },
  {
   "cell_type": "code",
   "execution_count": null,
   "id": "ec494e87",
   "metadata": {},
   "outputs": [],
   "source": []
  },
  {
   "attachments": {},
   "cell_type": "markdown",
   "id": "32fb89f8",
   "metadata": {},
   "source": [
    "### (Bonus) Exercise 14: \n",
    "Define a function called 'get_input'. The function should prompt the user to enter an input and then return this to the calling location. Test this works by calling the function a few times, prompting the user for different types of data.\n",
    "\n",
    "Extension 1: You may wish to extend this further to create a separate function which will 'get' (return) integers. This would be a separate function from the 'get_input' function, which would by default return strings (str). \n",
    "\n",
    "Extension 2: You may wish to incorporate this function into the scripts which process the user's DOB."
   ]
  },
  {
   "cell_type": "code",
   "execution_count": null,
   "id": "a3a12465",
   "metadata": {},
   "outputs": [],
   "source": []
  },
  {
   "attachments": {},
   "cell_type": "markdown",
   "id": "c9e5e008",
   "metadata": {},
   "source": [
    "### (Bonus) Exercise 15:\n",
    "Continuing from the previous exercise, can you add conditional statements that will evaluate whether the input is 'valid'. For example, if the user was asked to type in their date of birth, check to see whether this is the format required (this could be DD/MM/YYYY). Output a message to prompt the user if the format entered is not to the program's specification."
   ]
  },
  {
   "cell_type": "code",
   "execution_count": null,
   "id": "c391b1c0",
   "metadata": {},
   "outputs": [],
   "source": []
  }
 ],
 "metadata": {
  "kernelspec": {
   "display_name": "Python 3 (ipykernel)",
   "language": "python",
   "name": "python3"
  },
  "language_info": {
   "codemirror_mode": {
    "name": "ipython",
    "version": 3
   },
   "file_extension": ".py",
   "mimetype": "text/x-python",
   "name": "python",
   "nbconvert_exporter": "python",
   "pygments_lexer": "ipython3",
   "version": "3.11.5"
  }
 },
 "nbformat": 4,
 "nbformat_minor": 5
}
